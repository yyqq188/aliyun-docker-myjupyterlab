{
 "cells": [
  {
   "cell_type": "code",
   "execution_count": 1,
   "id": "169e2cd4-ae71-45d2-a3ab-450e78cc3e2e",
   "metadata": {},
   "outputs": [],
   "source": [
    "import pandas as pd"
   ]
  },
  {
   "cell_type": "code",
   "execution_count": 4,
   "id": "311b38d9-5c39-497b-8fde-bb2bf0528a65",
   "metadata": {},
   "outputs": [],
   "source": [
    "fn = \"official_demo/py4at/data/AAPL.csv\""
   ]
  },
  {
   "cell_type": "code",
   "execution_count": 7,
   "id": "dfed4589-0551-4aa3-9195-bebfe199aa8e",
   "metadata": {},
   "outputs": [
    {
     "name": "stdout",
     "output_type": "stream",
     "text": [
      "Date,HIGH,CLOSE,LOW,OPEN,COUNT,VOLUME\n",
      "2020-04-01,248.72,240.91,239.13,246.5,460606.0,44054638.0\n",
      "2020-04-02,245.15,244.93,236.9,240.34,380294.0,41483493.0\n",
      "2020-04-03,245.7,241.41,238.9741,242.8,293699.0,32470017.0\n",
      "2020-04-06,263.11,262.47,249.38,250.9,486681.0,50455071.0\n"
     ]
    }
   ],
   "source": [
    "with open(fn,\"r\") as f:\n",
    "    for _ in range(5):\n",
    "        print(f.readline(),end=\"\")"
   ]
  },
  {
   "cell_type": "code",
   "execution_count": 11,
   "id": "99512460-6ff6-403d-8c35-73479d450d46",
   "metadata": {},
   "outputs": [
    {
     "data": {
      "text/plain": [
       "[['Date', 'HIGH', 'CLOSE', 'LOW', 'OPEN', 'COUNT', 'VOLUME'],\n",
       " ['2020-04-01',\n",
       "  '248.72',\n",
       "  '240.91',\n",
       "  '239.13',\n",
       "  '246.5',\n",
       "  '460606.0',\n",
       "  '44054638.0'],\n",
       " ['2020-04-02',\n",
       "  '245.15',\n",
       "  '244.93',\n",
       "  '236.9',\n",
       "  '240.34',\n",
       "  '380294.0',\n",
       "  '41483493.0'],\n",
       " ['2020-04-03',\n",
       "  '245.7',\n",
       "  '241.41',\n",
       "  '238.9741',\n",
       "  '242.8',\n",
       "  '293699.0',\n",
       "  '32470017.0'],\n",
       " ['2020-04-06',\n",
       "  '263.11',\n",
       "  '262.47',\n",
       "  '249.38',\n",
       "  '250.9',\n",
       "  '486681.0',\n",
       "  '50455071.0']]"
      ]
     },
     "execution_count": 11,
     "metadata": {},
     "output_type": "execute_result"
    }
   ],
   "source": [
    "import csv\n",
    "csv_reader = csv.reader(open(fn,\"r\"))\n",
    "data = list(csv_reader)\n",
    "data[:5]"
   ]
  },
  {
   "cell_type": "code",
   "execution_count": 12,
   "id": "50a500d6-3b77-4633-a2c2-fa00c756df55",
   "metadata": {},
   "outputs": [
    {
     "name": "stdout",
     "output_type": "stream",
     "text": [
      "<class 'pandas.core.frame.DataFrame'>\n",
      "DatetimeIndex: 21 entries, 2020-04-01 to 2020-04-30\n",
      "Data columns (total 6 columns):\n",
      " #   Column  Non-Null Count  Dtype  \n",
      "---  ------  --------------  -----  \n",
      " 0   HIGH    21 non-null     float64\n",
      " 1   CLOSE   21 non-null     float64\n",
      " 2   LOW     21 non-null     float64\n",
      " 3   OPEN    21 non-null     float64\n",
      " 4   COUNT   21 non-null     float64\n",
      " 5   VOLUME  21 non-null     float64\n",
      "dtypes: float64(6)\n",
      "memory usage: 1.1 KB\n"
     ]
    }
   ],
   "source": [
    "data = pd.read_csv(fn,index_col=0,parse_dates=True)\n",
    "data.info()"
   ]
  },
  {
   "cell_type": "code",
   "execution_count": 14,
   "id": "e51d9787-dd1d-46ac-9343-054491ecb1af",
   "metadata": {},
   "outputs": [
    {
     "data": {
      "text/html": [
       "<div>\n",
       "<style scoped>\n",
       "    .dataframe tbody tr th:only-of-type {\n",
       "        vertical-align: middle;\n",
       "    }\n",
       "\n",
       "    .dataframe tbody tr th {\n",
       "        vertical-align: top;\n",
       "    }\n",
       "\n",
       "    .dataframe thead th {\n",
       "        text-align: right;\n",
       "    }\n",
       "</style>\n",
       "<table border=\"1\" class=\"dataframe\">\n",
       "  <thead>\n",
       "    <tr style=\"text-align: right;\">\n",
       "      <th></th>\n",
       "      <th>HIGH</th>\n",
       "      <th>CLOSE</th>\n",
       "      <th>LOW</th>\n",
       "      <th>OPEN</th>\n",
       "      <th>COUNT</th>\n",
       "      <th>VOLUME</th>\n",
       "    </tr>\n",
       "    <tr>\n",
       "      <th>Date</th>\n",
       "      <th></th>\n",
       "      <th></th>\n",
       "      <th></th>\n",
       "      <th></th>\n",
       "      <th></th>\n",
       "      <th></th>\n",
       "    </tr>\n",
       "  </thead>\n",
       "  <tbody>\n",
       "    <tr>\n",
       "      <th>2020-04-24</th>\n",
       "      <td>283.01</td>\n",
       "      <td>282.97</td>\n",
       "      <td>277.00</td>\n",
       "      <td>277.20</td>\n",
       "      <td>306176.0</td>\n",
       "      <td>31627183.0</td>\n",
       "    </tr>\n",
       "    <tr>\n",
       "      <th>2020-04-27</th>\n",
       "      <td>284.54</td>\n",
       "      <td>283.17</td>\n",
       "      <td>279.95</td>\n",
       "      <td>281.80</td>\n",
       "      <td>300771.0</td>\n",
       "      <td>29271893.0</td>\n",
       "    </tr>\n",
       "    <tr>\n",
       "      <th>2020-04-28</th>\n",
       "      <td>285.83</td>\n",
       "      <td>278.58</td>\n",
       "      <td>278.20</td>\n",
       "      <td>285.08</td>\n",
       "      <td>285384.0</td>\n",
       "      <td>28001187.0</td>\n",
       "    </tr>\n",
       "    <tr>\n",
       "      <th>2020-04-29</th>\n",
       "      <td>289.67</td>\n",
       "      <td>287.73</td>\n",
       "      <td>283.89</td>\n",
       "      <td>284.73</td>\n",
       "      <td>324890.0</td>\n",
       "      <td>34320204.0</td>\n",
       "    </tr>\n",
       "    <tr>\n",
       "      <th>2020-04-30</th>\n",
       "      <td>294.53</td>\n",
       "      <td>293.80</td>\n",
       "      <td>288.35</td>\n",
       "      <td>289.96</td>\n",
       "      <td>471129.0</td>\n",
       "      <td>45765968.0</td>\n",
       "    </tr>\n",
       "  </tbody>\n",
       "</table>\n",
       "</div>"
      ],
      "text/plain": [
       "              HIGH   CLOSE     LOW    OPEN     COUNT      VOLUME\n",
       "Date                                                            \n",
       "2020-04-24  283.01  282.97  277.00  277.20  306176.0  31627183.0\n",
       "2020-04-27  284.54  283.17  279.95  281.80  300771.0  29271893.0\n",
       "2020-04-28  285.83  278.58  278.20  285.08  285384.0  28001187.0\n",
       "2020-04-29  289.67  287.73  283.89  284.73  324890.0  34320204.0\n",
       "2020-04-30  294.53  293.80  288.35  289.96  471129.0  45765968.0"
      ]
     },
     "execution_count": 14,
     "metadata": {},
     "output_type": "execute_result"
    }
   ],
   "source": [
    "data.tail()"
   ]
  },
  {
   "cell_type": "code",
   "execution_count": 15,
   "id": "b56f0b12-48e0-4e12-8d4f-a9c3391d1462",
   "metadata": {},
   "outputs": [
    {
     "data": {
      "text/plain": [
       "272.38619047619045"
      ]
     },
     "execution_count": 15,
     "metadata": {},
     "output_type": "execute_result"
    }
   ],
   "source": [
    "data['CLOSE'].mean()"
   ]
  },
  {
   "cell_type": "code",
   "execution_count": null,
   "id": "0d8499c8-8f99-42b5-9afb-657266fe59fe",
   "metadata": {},
   "outputs": [],
   "source": [
    "## xls的文件在pandas中不支持使用了"
   ]
  },
  {
   "cell_type": "code",
   "execution_count": 17,
   "id": "eb0f8f8f-92d8-4e1b-91e7-9b4c99afc9fc",
   "metadata": {},
   "outputs": [],
   "source": [
    "data.to_json(\"./xxxx.json\")"
   ]
  },
  {
   "cell_type": "code",
   "execution_count": 39,
   "id": "c57d2257-74e5-4419-8c67-8d7c16f8d2f7",
   "metadata": {},
   "outputs": [],
   "source": [
    "import pandas_datareader as web\n",
    "from datetime import datetime"
   ]
  },
  {
   "cell_type": "code",
   "execution_count": 40,
   "id": "8f695466-1e28-41e5-b00d-8b36c72a5354",
   "metadata": {},
   "outputs": [],
   "source": []
  },
  {
   "cell_type": "code",
   "execution_count": 42,
   "id": "8c78b1e2-b387-4586-8d5f-54be7281d359",
   "metadata": {},
   "outputs": [],
   "source": [
    "data = web.DataReader(\"AAPL\",\"quandl\",datetime(2020,1,1),datetime(2022,1,1),api_key= \"-MrAGyZPx3QwRs4Zn136\")"
   ]
  },
  {
   "cell_type": "code",
   "execution_count": 44,
   "id": "f233aeea-8005-40f5-8bf4-59b611f88eb8",
   "metadata": {},
   "outputs": [
    {
     "name": "stdout",
     "output_type": "stream",
     "text": [
      "<class 'pandas.core.frame.DataFrame'>\n",
      "Index: 0 entries\n",
      "Data columns (total 12 columns):\n",
      " #   Column      Non-Null Count  Dtype \n",
      "---  ------      --------------  ----- \n",
      " 0   Open        0 non-null      object\n",
      " 1   High        0 non-null      object\n",
      " 2   Low         0 non-null      object\n",
      " 3   Close       0 non-null      object\n",
      " 4   Volume      0 non-null      object\n",
      " 5   ExDividend  0 non-null      object\n",
      " 6   SplitRatio  0 non-null      object\n",
      " 7   AdjOpen     0 non-null      object\n",
      " 8   AdjHigh     0 non-null      object\n",
      " 9   AdjLow      0 non-null      object\n",
      " 10  AdjClose    0 non-null      object\n",
      " 11  AdjVolume   0 non-null      object\n",
      "dtypes: object(12)\n",
      "memory usage: 0.0+ bytes\n"
     ]
    }
   ],
   "source": [
    "data.info()\n"
   ]
  },
  {
   "cell_type": "code",
   "execution_count": 45,
   "id": "39bbcbfd-780c-480b-a450-2058993d68f3",
   "metadata": {},
   "outputs": [],
   "source": [
    "import configparser"
   ]
  },
  {
   "cell_type": "code",
   "execution_count": 46,
   "id": "92f8be33-c8db-4256-b166-ecea2ef186ec",
   "metadata": {},
   "outputs": [],
   "source": [
    "config = configparser.ConfigParser()  ## config.read(). 就是读取配置文件 这个没有太多的实用价值"
   ]
  },
  {
   "cell_type": "code",
   "execution_count": null,
   "id": "20f2e2e7-4b2b-4592-a6c7-ef0619d047d8",
   "metadata": {},
   "outputs": [],
   "source": []
  },
  {
   "cell_type": "code",
   "execution_count": null,
   "id": "3ca14639-8b3d-4235-8fc9-7cc24ab3d19f",
   "metadata": {},
   "outputs": [],
   "source": [
    "h5 = pd.HDFStore('data/data.h5', 'w')\n",
    "h5 = pd.HDFStore('data/data.h5', 'r')\n",
    "data.to_hdf('data/data.h5', 'data', format='table')"
   ]
  },
  {
   "cell_type": "code",
   "execution_count": 52,
   "id": "87056188-be2b-4b2b-a71c-3b571abe025e",
   "metadata": {},
   "outputs": [],
   "source": [
    "import tables as tb"
   ]
  },
  {
   "cell_type": "code",
   "execution_count": null,
   "id": "c8cb308e-5ab8-4507-9728-93d56d573907",
   "metadata": {},
   "outputs": [],
   "source": [
    "h5 = tb.open_file('data/data.h5', 'r')"
   ]
  },
  {
   "cell_type": "code",
   "execution_count": null,
   "id": "8cc61d45-f79c-4311-9855-6e86095b03d0",
   "metadata": {},
   "outputs": [],
   "source": [
    "## 通过pytables来打开一个文件，转为ts后，再实时的写入到这个文件中"
   ]
  },
  {
   "cell_type": "code",
   "execution_count": null,
   "id": "28e952e7-de39-4aab-b4ff-34a3eccdc4f7",
   "metadata": {},
   "outputs": [],
   "source": [
    "import tstables\n",
    "import tables as tb"
   ]
  },
  {
   "cell_type": "code",
   "execution_count": null,
   "id": "2554f046-6134-40b4-8234-5e40a8008912",
   "metadata": {},
   "outputs": [],
   "source": [
    "h5 = tb.open_file('data/data.h5ts', 'w')\n",
    "ts = h5.create_ts('/', 'data', desc)\n",
    "ts.append(data)"
   ]
  }
 ],
 "metadata": {
  "kernelspec": {
   "display_name": "Python 3 (ipykernel)",
   "language": "python",
   "name": "python3"
  },
  "language_info": {
   "codemirror_mode": {
    "name": "ipython",
    "version": 3
   },
   "file_extension": ".py",
   "mimetype": "text/x-python",
   "name": "python",
   "nbconvert_exporter": "python",
   "pygments_lexer": "ipython3",
   "version": "3.9.7"
  }
 },
 "nbformat": 4,
 "nbformat_minor": 5
}
