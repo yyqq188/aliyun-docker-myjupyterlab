{
 "cells": [
  {
   "cell_type": "code",
   "execution_count": 3,
   "id": "a3d0dc41-91f0-4ee1-8b3a-93fc9dc73ff1",
   "metadata": {},
   "outputs": [],
   "source": [
    "def __init__(self,symbol,start,end,amount,ftc=0.0,ptc=0.0,verbose=True):\n",
    "    self.symbol=symbol\n",
    "    self.start = start\n",
    "    self.end = end\n",
    "    self.initial_amount = amount #起始余额\n",
    "    self.amount = amount\n",
    "    self.ftc = ftc  #固定交易成本\n",
    "    self.ptc = ptc  #比例交易成本\n",
    "    self.units = 0\n",
    "    self.position = 0\n",
    "    self.trades = 0\n",
    "    self.verbose = verbose\n",
    "    self.get_data()"
   ]
  },
  {
   "cell_type": "code",
   "execution_count": 4,
   "id": "656e4939-6a28-4c0b-9b6a-4ff2c5d21a2d",
   "metadata": {},
   "outputs": [],
   "source": [
    "import pandas as pd"
   ]
  },
  {
   "cell_type": "code",
   "execution_count": 5,
   "id": "3f49278e-ab1e-485b-95ca-09b5a3eaeec5",
   "metadata": {},
   "outputs": [],
   "source": [
    "def get_data(self):\n",
    "    '''Retrieves and prepares the data\n",
    "    '''\n",
    "    raw = pd.read_csv('http://hilpisch.com/pyalgo_eikon_eod_data.csv',index_col=0,\n",
    "                parse_dates=True).dropna()\n",
    "    raw = pd.DataFrame(raw[self.symbol])\n",
    "    raw = raw.loc[self.start:self.end]\n",
    "    raw.rename(columns={self.symbol:\"price\"},inplace=True)\n",
    "    raw[\"return\"] = np.log(raw/raw.shift(1))\n",
    "    self.data = raw.dropna()"
   ]
  },
  {
   "cell_type": "code",
   "execution_count": 6,
   "id": "68cd1b07-6936-4cb5-85c7-03c6f23894c6",
   "metadata": {},
   "outputs": [],
   "source": [
    "def plot_data(self,cols=None):\n",
    "    if cols is None:\n",
    "        cols = [\"price\"]\n",
    "    self.data[\"price\"].plot(figsize = (10,6),title=self.symbol)\n",
    "    \n",
    "    "
   ]
  },
  {
   "cell_type": "code",
   "execution_count": 7,
   "id": "f0296c32-b2f5-4e2c-a8f1-962b2d8457d1",
   "metadata": {},
   "outputs": [],
   "source": [
    "def get_date_price(self,bar):\n",
    "    '''return data and price for bar\n",
    "    '''\n",
    "    data = str(self.data.index[bar])[:10]\n",
    "    price = self.data.price.iloc[bar]\n",
    "    return data,price\n",
    "    "
   ]
  },
  {
   "cell_type": "code",
   "execution_count": 8,
   "id": "bf66c279-2d9c-44a7-8dbe-bd53e414da0d",
   "metadata": {},
   "outputs": [],
   "source": [
    "def print_balance(self,bar):\n",
    "    '''print out current cash balance info\n",
    "    '''\n",
    "    data,price = self.get_date_price(bar)\n",
    "    print('')\n",
    "def print_net_wealth(self,bar):\n",
    "    '''Print out current cash balance info.\n",
    "    '''\n",
    "    data,price = self.get_date_price(bar)\n",
    "    net_wealth = self.units * price + self.amount\n",
    "    print('')"
   ]
  },
  {
   "cell_type": "code",
   "execution_count": null,
   "id": "2d592491-2d0c-4244-8ce8-babbb2c601b4",
   "metadata": {},
   "outputs": [],
   "source": [
    "def place_buy_order(self,bar,units=None,amount=None):\n",
    "    '''place a buy order\n",
    "    '''\n",
    "    date,price = self.get_date_price(bar)\n",
    "    if units is None:\n",
    "        units = int(amount/price)\n",
    "    self.amount -= (units*price) * (1+self.ptc) + self.ftc\n",
    "    self.units += units\n",
    "    self.trades += 1\n",
    "    if self.verbose:\n",
    "        print('')\n",
    "        self.print_balance(bar)\n",
    "        self.print_net_wealth(bar)\n",
    "        \n",
    "def place_sell_order(self,bar,units=None,amount=None):\n",
    "    '''place a sell order\n",
    "    '''\n",
    "    date,price = self.get_data_price(bar)\n",
    "    if units is None:\n",
    "        units = int(amount/price)\n",
    "    self.amount += (units * price) * (1 - self.ptc) - self.ftc\n",
    "    self.units -= units\n",
    "    self.traders += 1\n",
    "    if self.verbose:\n",
    "        print()\n",
    "        self.print_balance(bar)\n",
    "        self.print_net_wealth(bar)\n",
    "        \n",
    "def close_out(self,bar):\n",
    "    '''close out a long or short position\n",
    "    '''\n",
    "    \n",
    "if __name__ == '__main__':\n",
    "    bb = BacktestBase('AAPL.O', '2010-1-1', '2019-12-31', 10000) \n",
    "    print(bb.data.info()) \n",
    "    print(bb.data.tail()) \n",
    "    bb.plot_data()"
   ]
  }
 ],
 "metadata": {
  "kernelspec": {
   "display_name": "Python 3 (ipykernel)",
   "language": "python",
   "name": "python3"
  },
  "language_info": {
   "codemirror_mode": {
    "name": "ipython",
    "version": 3
   },
   "file_extension": ".py",
   "mimetype": "text/x-python",
   "name": "python",
   "nbconvert_exporter": "python",
   "pygments_lexer": "ipython3",
   "version": "3.9.7"
  }
 },
 "nbformat": 4,
 "nbformat_minor": 5
}
